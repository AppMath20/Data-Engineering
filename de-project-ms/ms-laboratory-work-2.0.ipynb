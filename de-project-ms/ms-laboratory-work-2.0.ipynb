{
 "cells": [
  {
   "cell_type": "markdown",
   "metadata": {},
   "source": [
    "## Лабораторная работа 2"
   ]
  },
  {
   "cell_type": "markdown",
   "metadata": {},
   "source": [
    "### I. Нахождение числовых характеристик различных распределений.\n",
    "\n",
    "    excess   - коэффициент эксцесса.\n",
    "    skewness - коэффициент ассиметрии.\n",
    "    median   - медиана.\n",
    "    cov      - коэффициент вариации.\n",
    "    variance - дисперсия.\n",
    "    expect   - математическое ождиание.\n",
    "    quant1   - квантиль 1/3.\n",
    "    quant2   - квантиль 3/4."
   ]
  },
  {
   "cell_type": "code",
   "execution_count": 4,
   "metadata": {},
   "outputs": [],
   "source": [
    "import numpy as np\n",
    "import scipy.stats as stat\n",
    "import matplotlib.pyplot as plt"
   ]
  },
  {
   "cell_type": "code",
   "execution_count": 22,
   "metadata": {},
   "outputs": [],
   "source": [
    "def print_data(data):\n",
    "    size = np.size(data)\n",
    "    print(f'excess:   {stat.moment(data, 4) / stat.moment(data, 2) ** 2}')\n",
    "    print(f'skewness: {stat.kstat(data, 3) / stat.kstat(data, 2) ** 1.5}')\n",
    "    print(f'median:   {(data[size // 2 - 1] + data[size // 2]) / 2}')\n",
    "    print(f'cov:      {np.var(data) ** 0.5 / np.mean(data)}')\n",
    "    print(f'variance: {np.var(data)}')\n",
    "    print(f'expect:   {np.mean(data)}')\n",
    "    print(f'quant1:   {np.quantile(data, 1 / 3)}')\n",
    "    print(f'quant2:   {np.quantile(data, 1 / 4)}')"
   ]
  },
  {
   "cell_type": "markdown",
   "metadata": {},
   "source": [
    "#### 1.Распределние Гаусса."
   ]
  },
  {
   "cell_type": "code",
   "execution_count": 6,
   "metadata": {},
   "outputs": [
    {
     "data": {
      "image/png": "[encoded data removed]",
      "text/plain": [
       "<Figure size 432x288 with 1 Axes>"
      ]
     },
     "metadata": {
      "needs_background": "light"
     },
     "output_type": "display_data"
    },
    {
     "name": "stdout",
     "output_type": "stream",
     "text": [
      "excess:   2.6780013394823126\n",
      "skewness: 0.01455428193641097\n",
      "median:   23.76393545973539\n",
      "cov:      0.2667432466465165\n",
      "variance: 20.590388544314646\n",
      "expect:   17.011352273483993\n",
      "quant1:   15.324290451220877\n",
      "quant2:   13.72695541703824\n"
     ]
    }
   ],
   "source": [
    "n = 200\n",
    "gauss_exp = 17\n",
    "gauss_var = 22\n",
    "\n",
    "gauss = stat.norm.rvs(loc=gauss_exp, scale=gauss_var**0.5,size=n)\n",
    "plt.hist(gauss)\n",
    "plt.show()\n",
    "print_data(gauss)"
   ]
  },
  {
   "cell_type": "markdown",
   "metadata": {},
   "source": [
    "#### 2.Распределение Пуассона."
   ]
  },
  {
   "cell_type": "code",
   "execution_count": 7,
   "metadata": {},
   "outputs": [
    {
     "data": {
      "image/png": "[encoded data removed]",
      "text/plain": [
       "<Figure size 432x288 with 1 Axes>"
      ]
     },
     "metadata": {
      "needs_background": "light"
     },
     "output_type": "display_data"
    },
    {
     "name": "stdout",
     "output_type": "stream",
     "text": [
      "excess:   2.7174847549820553\n",
      "skewness: 0.0813034271169805\n",
      "median:   10.0\n",
      "cov:      0.3433849569213425\n",
      "variance: 9.2144\n",
      "expect:   8.84\n",
      "quant1:   8.0\n",
      "quant2:   7.0\n"
     ]
    }
   ],
   "source": [
    "poission_param = 9\n",
    "poisson = np.random.default_rng().poisson(poission_param, n)\n",
    "\n",
    "plt.hist(poisson)\n",
    "plt.show()\n",
    "print_data(poisson)"
   ]
  },
  {
   "cell_type": "markdown",
   "metadata": {},
   "source": [
    "#### 3.Распределение Коши"
   ]
  },
  {
   "cell_type": "code",
   "execution_count": 8,
   "metadata": {},
   "outputs": [
    {
     "data": {
      "image/png": "[encoded data removed]",
      "text/plain": [
       "<Figure size 432x288 with 1 Axes>"
      ]
     },
     "metadata": {
      "needs_background": "light"
     },
     "output_type": "display_data"
    },
    {
     "name": "stdout",
     "output_type": "stream",
     "text": [
      "excess:   60.990182536066214\n",
      "skewness: 6.644230833914385\n",
      "median:   0.941237106653565\n",
      "cov:      15.081521267552793\n",
      "variance: 224.26709949376757\n",
      "expect:   0.9929734401984263\n",
      "quant1:   -1.2481733675941022\n",
      "quant2:   -2.1977889155739874\n"
     ]
    }
   ],
   "source": [
    "cauchy_shift = 0\n",
    "cauchy_scale = 2\n",
    "\n",
    "cauchy = stat.cauchy.rvs(loc=cauchy_shift, scale = cauchy_scale, size=n)\n",
    "plt.hist(cauchy)\n",
    "plt.show()\n",
    "print_data(cauchy)"
   ]
  },
  {
   "cell_type": "markdown",
   "metadata": {},
   "source": [
    "#### 4.Распределение экспоненциальное"
   ]
  },
  {
   "cell_type": "code",
   "execution_count": 9,
   "metadata": {},
   "outputs": [
    {
     "data": {
      "image/png": "[encoded data removed]",
      "text/plain": [
       "<Figure size 432x288 with 1 Axes>"
      ]
     },
     "metadata": {
      "needs_background": "light"
     },
     "output_type": "display_data"
    },
    {
     "name": "stdout",
     "output_type": "stream",
     "text": [
      "excess:   11.795941355797494\n",
      "skewness: 2.2831691532791885\n",
      "median:   0.48025707626376657\n",
      "cov:      0.9723841712874107\n",
      "variance: 0.09231334460746649\n",
      "expect:   0.3124599525087887\n",
      "quant1:   0.13732843361598965\n",
      "quant2:   0.09730409416947523\n"
     ]
    }
   ],
   "source": [
    "exp_param = 3\n",
    "\n",
    "exp = np.random.default_rng().exponential(1 / exp_param, n)\n",
    "plt.hist(exp)\n",
    "plt.show()\n",
    "print_data(exp)"
   ]
  },
  {
   "cell_type": "markdown",
   "metadata": {},
   "source": [
    "#### 5.Распределение равномерное."
   ]
  },
  {
   "cell_type": "code",
   "execution_count": 10,
   "metadata": {},
   "outputs": [
    {
     "data": {
      "image/png": "[encoded data removed]",
      "text/plain": [
       "<Figure size 432x288 with 1 Axes>"
      ]
     },
     "metadata": {
      "needs_background": "light"
     },
     "output_type": "display_data"
    },
    {
     "name": "stdout",
     "output_type": "stream",
     "text": [
      "excess:   1.6895497529923753\n",
      "skewness: 0.02015659049382409\n",
      "median:   5.81490799344672\n",
      "cov:      0.09748788961336846\n",
      "variance: 0.34474939076342836\n",
      "expect:   6.022836652299679\n",
      "quant1:   5.648167463333113\n",
      "quant2:   5.5029520769056095\n"
     ]
    }
   ],
   "source": [
    "a = 5\n",
    "b = 7\n",
    "uniform = np.random.default_rng().uniform(low=a, high=b, size=n)\n",
    "plt.hist(uniform)\n",
    "\n",
    "plt.show()\n",
    "print_data(uniform)"
   ]
  },
  {
   "cell_type": "markdown",
   "metadata": {},
   "source": [
    "### II. Интервальные оценки."
   ]
  },
  {
   "cell_type": "code",
   "execution_count": 11,
   "metadata": {},
   "outputs": [],
   "source": [
    "import math\n",
    "import itertools"
   ]
  },
  {
   "cell_type": "code",
   "execution_count": 12,
   "metadata": {},
   "outputs": [],
   "source": [
    "def interval_gauss_mu(data, alpha, var):\n",
    "    point_expectation = np.mean(data)\n",
    "    u_half_alpha = -stat.norm.ppf(alpha / 2)\n",
    "    \n",
    "    mu_lower = point_expectation - u_half_alpha * (var / n)**0.5\n",
    "    mu_higher = point_expectation + u_half_alpha * (var / n)**0.5\n",
    "    return mu_lower, mu_higher;"
   ]
  },
  {
   "cell_type": "code",
   "execution_count": 13,
   "metadata": {},
   "outputs": [],
   "source": [
    "def interval_gauss_variance(data, n, alpha):\n",
    "    s2 = np.var(data) * n / (n - 1)\n",
    "    df = n - 1\n",
    "    chi2_half_alpha = stat.chi2.ppf(alpha / 2, df)\n",
    "    chi2_one_minus_half_alpha = stat.chi2.ppf(1 - alpha / 2, df)\n",
    "\n",
    "    sigma2_lower = (n - 1) * s2 / chi2_one_minus_half_alpha\n",
    "    sigma2_higher = (n - 1) * s2 / chi2_half_alpha\n",
    "    return sigma2_lower, sigma2_higher"
   ]
  },
  {
   "cell_type": "code",
   "execution_count": 28,
   "metadata": {},
   "outputs": [],
   "source": [
    "def interval_student_mu(data, n, alpha):\n",
    "    point_expectation = np.mean(data)\n",
    "    s2 = np.std(data) * n / (n - 1)\n",
    "    t_half_alpha = -stat.t.ppf(q=alpha / 2, df=n-1)\n",
    "    \n",
    "    mu_lower = point_expectation - t_half_alpha * (s2 / n)**0.5\n",
    "    mu_higher = point_expectation + t_half_alpha * (s2 / n)**0.5\n",
    "    return mu_lower, mu_higher"
   ]
  },
  {
   "cell_type": "code",
   "execution_count": 33,
   "metadata": {},
   "outputs": [],
   "source": [
    "def in_range(x, interval):\n",
    "    a, b = interval\n",
    "    if a <= x <= b:\n",
    "        return True\n",
    "    return False"
   ]
  },
  {
   "cell_type": "code",
   "execution_count": 45,
   "metadata": {},
   "outputs": [],
   "source": [
    "def group_data(data, k):\n",
    "    \n",
    "    # переведем ряд в вариационный и вычислим начальную и конечную точку\n",
    "    x0 = math.floor(min(data))\n",
    "    xn = math.ceil(max(data))\n",
    "    \n",
    "    # найдем границы отрезков\n",
    "    interval_size = (xn - x0) / k\n",
    "    bounds = [x0 + i * interval_size for i in range(k + 1)]\n",
    "    \n",
    "    # выделим отрезки\n",
    "    a, b = itertools.tee(bounds)\n",
    "    next(b, None)\n",
    "    intervals = list(zip(a, b))\n",
    "    \n",
    "    # найдем серидины интервалов\n",
    "    intervals_mids = [(a + b) / 2 for (a, b) in intervals]\n",
    "    \n",
    "    grouped = np.zeros(np.size(data))\n",
    "    \n",
    "    for i in range(np.size(data)):\n",
    "        # находим индекс интервала в который попадает точка исходной выборки\n",
    "        entry_group = [j for j in range(k) if in_range(data[i], intervals[j])][0]\n",
    "        # группируем, записывая в финальный массив значение серидины интервала в который попала текущая точка\n",
    "        grouped[i] = intervals_mids[entry_group]\n",
    "        \n",
    "    return grouped"
   ]
  },
  {
   "cell_type": "markdown",
   "metadata": {},
   "source": [
    "#### А. Доверительные интервалы для гауссовского распределения."
   ]
  },
  {
   "cell_type": "markdown",
   "metadata": {},
   "source": [
    "    1.Оценкка математического ожидания."
   ]
  },
  {
   "cell_type": "code",
   "execution_count": 46,
   "metadata": {},
   "outputs": [
    {
     "name": "stdout",
     "output_type": "stream",
     "text": [
      "MU- : 3.6955177263485157 < MU: 4.111288873653419 < MU+: 4.527060020958323\n"
     ]
    }
   ],
   "source": [
    "alpha = 0.05\n",
    "gauss_exp = 4\n",
    "gauss_var = 9\n",
    "\n",
    "gauss = stat.norm.rvs(loc=gauss_exp, scale=gauss_var**0.5,size=n)\n",
    "mu_lower, mu_higher = interval_gauss_mu(gauss, alpha, gauss_var)\n",
    "\n",
    "print(f'MU- : {mu_lower} < MU: {np.mean(gauss)} < MU+: {mu_higher}')"
   ]
  },
  {
   "cell_type": "markdown",
   "metadata": {},
   "source": [
    "    2.Оценка дисперсии."
   ]
  },
  {
   "cell_type": "code",
   "execution_count": 47,
   "metadata": {},
   "outputs": [
    {
     "name": "stdout",
     "output_type": "stream",
     "text": [
      "VAR- : 7.924995153468652 < VAR: 9.5083965775598 < VAR+: 11.751369817809026\n"
     ]
    }
   ],
   "source": [
    "sigma2_lower, sigma2_higher = interval_gauss_variance(gauss, n, alpha)\n",
    "\n",
    "print(f'VAR- : {sigma2_lower} < VAR: {np.var(gauss)} < VAR+: {sigma2_higher}')"
   ]
  },
  {
   "cell_type": "markdown",
   "metadata": {},
   "source": [
    "####  Б. Группированные доверительные интервалы гауссовского распределения."
   ]
  },
  {
   "cell_type": "markdown",
   "metadata": {},
   "source": [
    "    1.Оценкка математического ожидания."
   ]
  },
  {
   "cell_type": "code",
   "execution_count": 48,
   "metadata": {},
   "outputs": [
    {
     "name": "stdout",
     "output_type": "stream",
     "text": [
      "MU- : 3.7242288526950964 < MU: 4.14 < MU+: 4.555771147304903\n"
     ]
    }
   ],
   "source": [
    "k = 8\n",
    "group_gauss = group_data(gauss, k)\n",
    "\n",
    "mu_lower, mu_higher = interval_gauss_mu(group_gauss, alpha, gauss_var)\n",
    "print(f'MU- : {mu_lower} < MU: {np.mean(group_gauss)} < MU+: {mu_higher}')"
   ]
  },
  {
   "cell_type": "markdown",
   "metadata": {},
   "source": [
    "    2.Оценка дисперсии."
   ]
  },
  {
   "cell_type": "code",
   "execution_count": 49,
   "metadata": {},
   "outputs": [
    {
     "name": "stdout",
     "output_type": "stream",
     "text": [
      "VAR- : 8.285058493401312 < VAR: 9.9404 < VAR+: 12.285280234591076\n"
     ]
    }
   ],
   "source": [
    "sigma2_lower, sigma2_higher = interval_gauss_variance(group_gauss, n, alpha)\n",
    "print(f'VAR- : {sigma2_lower} < VAR: {np.var(group_gauss)} < VAR+: {sigma2_higher}')"
   ]
  },
  {
   "cell_type": "markdown",
   "metadata": {},
   "source": [
    "####  В. Доверительный интервал математического ожидания через квантили стьюдента."
   ]
  },
  {
   "cell_type": "code",
   "execution_count": 50,
   "metadata": {},
   "outputs": [
    {
     "name": "stdout",
     "output_type": "stream",
     "text": [
      "MU- : 3.8658193251642654 < MU: 4.111288873653419 < MU+: 4.356758422142573\n"
     ]
    }
   ],
   "source": [
    "mu_lower_student, mu_higher_student = interval_student_mu(gauss, n, alpha)\n",
    "\n",
    "print(f'MU- : {mu_lower_student} < MU: {np.mean(gauss)} < MU+: {mu_higher_student}')"
   ]
  }
 ],
 "metadata": {
  "kernelspec": {
   "display_name": "Python 3",
   "language": "python",
   "name": "python3"
  },
  "language_info": {
   "codemirror_mode": {
    "name": "ipython",
    "version": 3
   },
   "file_extension": ".py",
   "mimetype": "text/x-python",
   "name": "python",
   "nbconvert_exporter": "python",
   "pygments_lexer": "ipython3",
   "version": "3.8.5"
  }
 },
 "nbformat": 4,
 "nbformat_minor": 4
}
