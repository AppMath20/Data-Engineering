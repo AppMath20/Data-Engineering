{
 "cells": [
  {
   "cell_type": "markdown",
   "metadata": {},
   "source": [
    "## Лабораторная работа 2"
   ]
  },
  {
   "cell_type": "markdown",
   "metadata": {},
   "source": [
    "### I. Нахождение числовых характеристик различных распределений.\n",
    "\n",
    "    excess   - коэффициент эксцесса.\n",
    "    skewness - коэффициент ассиметрии.\n",
    "    median   - медиана.\n",
    "    cov      - коэффициент вариации.\n",
    "    variance - дисперсия.\n",
    "    expect   - математическое ождиание.\n",
    "    quant1   - квантиль 1/3.\n",
    "    quant2   - квантиль 3/4."
   ]
  },
  {
   "cell_type": "code",
   "execution_count": 2,
   "metadata": {},
   "outputs": [],
   "source": [
    "import numpy as np\n",
    "import scipy.stats as stat\n",
    "import matplotlib.pyplot as plt"
   ]
  },
  {
   "cell_type": "code",
   "execution_count": 17,
   "metadata": {},
   "outputs": [],
   "source": [
    "def print_data(data):\n",
    "    size = np.size(data)\n",
    "    print(f'excess:   {stat.moment(data, 4) / stat.moment(data, 2) ** 2}')\n",
    "    print(f'skewness: {stat.kstat(data, 3) / stat.kstat(data, 2) ** 1.5}')\n",
    "    print(f'median:   {(data[size // 2 - 1] + data[size // 2]) / 2}')\n",
    "    print(f'cov:      {np.var(data) ** 0.5 / np.mean(data)}')\n",
    "    print(f'variance: {np.var(data)}')\n",
    "    print(f'expect:   {np.mean(data)}')\n",
    "    print(f'quant1:   {np.quantile(data, 1 / 3)}')\n",
    "    print(f'quant2:   {np.quantile(data, 1 / 4)}')"
   ]
  },
  {
   "cell_type": "markdown",
   "metadata": {},
   "source": [
    "#### 1.Распределние Гаусса."
   ]
  },
  {
   "cell_type": "code",
   "execution_count": 21,
   "metadata": {},
   "outputs": [
    {
     "data": {
      "image/png": "[encoded data removed]",
      "text/plain": [
       "<Figure size 432x288 with 1 Axes>"
      ]
     },
     "metadata": {
      "needs_background": "light"
     },
     "output_type": "display_data"
    },
    {
     "name": "stdout",
     "output_type": "stream",
     "text": [
      "excess:   3.3773822998768614\n",
      "skewness: -0.3904146717884575\n",
      "median:   18.5644230299095\n",
      "cov:      0.3014513944813664\n",
      "variance: 26.609304365309573\n",
      "expect:   17.111948454668802\n",
      "quant1:   15.315106652354142\n",
      "quant2:   13.790873354260032\n"
     ]
    }
   ],
   "source": [
    "n = 200\n",
    "gauss_exp = 17\n",
    "gauss_var = 22\n",
    "\n",
    "gauss = stat.norm.rvs(loc=gauss_exp, scale=gauss_var**0.5,size=n)\n",
    "plt.hist(gauss)\n",
    "plt.show()\n",
    "print_data(gauss)"
   ]
  },
  {
   "cell_type": "markdown",
   "metadata": {},
   "source": [
    "#### 2.Распределение Пуассона."
   ]
  },
  {
   "cell_type": "code",
   "execution_count": 60,
   "metadata": {},
   "outputs": [
    {
     "data": {
      "image/png": "[encoded data removed]",
      "text/plain": [
       "<Figure size 432x288 with 1 Axes>"
      ]
     },
     "metadata": {
      "needs_background": "light"
     },
     "output_type": "display_data"
    },
    {
     "name": "stdout",
     "output_type": "stream",
     "text": [
      "excess:   2.714206619335284\n",
      "skewness: 0.0846058603743195\n",
      "median:   10.0\n",
      "cov:      0.3163807720509249\n",
      "variance: 7.8309750000000005\n",
      "expect:   8.845\n",
      "quant1:   8.0\n",
      "quant2:   7.0\n"
     ]
    }
   ],
   "source": [
    "poission_param = 9\n",
    "poisson = np.random.default_rng().poisson(poission_param, n)\n",
    "\n",
    "plt.hist(poisson)\n",
    "plt.show()\n",
    "print_data(poisson)"
   ]
  },
  {
   "cell_type": "markdown",
   "metadata": {},
   "source": [
    "#### 3.Распределение Коши"
   ]
  },
  {
   "cell_type": "code",
   "execution_count": 49,
   "metadata": {},
   "outputs": [
    {
     "data": {
      "image/png": "[encoded data removed]",
      "text/plain": [
       "<Figure size 432x288 with 1 Axes>"
      ]
     },
     "metadata": {
      "needs_background": "light"
     },
     "output_type": "display_data"
    },
    {
     "name": "stdout",
     "output_type": "stream",
     "text": [
      "excess:   113.57914960716745\n",
      "skewness: 8.806440376347705\n",
      "median:   -5.96150655856261\n",
      "cov:      63.51515391314581\n",
      "variance: 499.38929250828414\n",
      "expect:   0.3518376071085216\n",
      "quant1:   -1.149799547284543\n",
      "quant2:   -2.0685369370543376\n"
     ]
    }
   ],
   "source": [
    "cauchy_shift = 0\n",
    "cauchy_scale = 2\n",
    "\n",
    "cauchy = stat.cauchy.rvs(loc=cauchy_shift, scale = cauchy_scale, size=n)\n",
    "plt.hist(cauchy)\n",
    "plt.show()\n",
    "print_data(cauchy)"
   ]
  },
  {
   "cell_type": "markdown",
   "metadata": {},
   "source": [
    "#### 4.Распределение экспоненциальное"
   ]
  },
  {
   "cell_type": "code",
   "execution_count": 51,
   "metadata": {},
   "outputs": [
    {
     "data": {
      "image/png": "[encoded data removed]",
      "text/plain": [
       "<Figure size 432x288 with 1 Axes>"
      ]
     },
     "metadata": {
      "needs_background": "light"
     },
     "output_type": "display_data"
    },
    {
     "name": "stdout",
     "output_type": "stream",
     "text": [
      "excess:   10.83098759931455\n",
      "skewness: 2.301404749763541\n",
      "median:   0.038942277040703376\n",
      "cov:      1.0471388937887272\n",
      "variance: 0.13390490341787642\n",
      "expect:   0.34945716507981445\n",
      "quant1:   0.13149776496624924\n",
      "quant2:   0.07743890547295526\n"
     ]
    }
   ],
   "source": [
    "exp_param = 3\n",
    "\n",
    "exp = np.random.default_rng().exponential(1 / exp_param, n)\n",
    "plt.hist(exp)\n",
    "plt.show()\n",
    "print_data(exp)"
   ]
  },
  {
   "cell_type": "markdown",
   "metadata": {},
   "source": [
    "#### 5.Распределение равномерное."
   ]
  },
  {
   "cell_type": "code",
   "execution_count": 55,
   "metadata": {},
   "outputs": [
    {
     "data": {
      "image/png": "[encoded data removed]",
      "text/plain": [
       "<Figure size 432x288 with 1 Axes>"
      ]
     },
     "metadata": {
      "needs_background": "light"
     },
     "output_type": "display_data"
    },
    {
     "name": "stdout",
     "output_type": "stream",
     "text": [
      "excess:   1.7645971660014015\n",
      "skewness: -0.11071455645334483\n",
      "median:   5.453664826264141\n",
      "cov:      0.09718217265473195\n",
      "variance: 0.34591004873973785\n",
      "expect:   6.051945175669723\n",
      "quant1:   5.709654588435695\n",
      "quant2:   5.538229453883279\n"
     ]
    }
   ],
   "source": [
    "a = 5\n",
    "b = 7\n",
    "uniform = np.random.default_rng().uniform(low=a, high=b, size=n)\n",
    "plt.hist(uniform)\n",
    "\n",
    "plt.show()\n",
    "print_data(uniform)"
   ]
  },
  {
   "cell_type": "markdown",
   "metadata": {},
   "source": [
    "### II. Интервальные оценки."
   ]
  },
  {
   "cell_type": "code",
   "execution_count": 3,
   "metadata": {},
   "outputs": [],
   "source": [
    "import math\n",
    "import itertools"
   ]
  },
  {
   "cell_type": "code",
   "execution_count": 4,
   "metadata": {},
   "outputs": [],
   "source": [
    "def interval_gauss_mu(data, alpha, var):\n",
    "    point_expectation = np.mean(data)\n",
    "    u_half_alpha = -stat.norm.ppf(alpha / 2)\n",
    "    \n",
    "    mu_lower = point_expectation - u_half_alpha * (var / n)**0.5\n",
    "    mu_higher = point_expectation + u_half_alpha * (var / n)**0.5\n",
    "    return mu_lower, mu_higher;"
   ]
  },
  {
   "cell_type": "code",
   "execution_count": 5,
   "metadata": {},
   "outputs": [],
   "source": [
    "def interval_gauss_variance(data, n, alpha):\n",
    "    s2 = np.var(data) * n / (n - 1)\n",
    "    df = n - 1\n",
    "    chi2_half_alpha = stat.chi2.ppf(alpha / 2, df)\n",
    "    chi2_one_minus_half_alpha = stat.chi2.ppf(1 - alpha / 2, df)\n",
    "\n",
    "    sigma2_lower = (n - 1) * s2 / chi2_one_minus_half_alpha\n",
    "    sigma2_higher = (n - 1) * s2 / chi2_half_alpha\n",
    "    return sigma2_lower, sigma2_higher"
   ]
  },
  {
   "cell_type": "code",
   "execution_count": 6,
   "metadata": {},
   "outputs": [],
   "source": [
    "def group_data(data, k):\n",
    "    \n",
    "    # переведем ряд в вариационный и вычислим начальную и конечную точку\n",
    "    x0 = math.floor(min(data))\n",
    "    xn = math.ceil(max(data))\n",
    "    \n",
    "    # найдем границы отрезков\n",
    "    interval_size = (xn - x0) / k\n",
    "    bounds = [x0 + i * interval_size for i in range(k + 1)]\n",
    "    \n",
    "    # выделим отрезки\n",
    "    a, b = itertools.tee(bounds)\n",
    "    next(b, None)\n",
    "    intervals = list(zip(a, b))\n",
    "    \n",
    "    return intervals"
   ]
  },
  {
   "cell_type": "code",
   "execution_count": 7,
   "metadata": {},
   "outputs": [],
   "source": [
    "def interval_student_mu(data, n, alpha):\n",
    "    point_expectation = np.mean(data)\n",
    "    s2 = np.std(data) * n / (n - 1)\n",
    "    t_half_alpha = -stat.t.ppf(q=alpha / 2, df=n-1)\n",
    "    \n",
    "    mu_lower = point_expectation - t_half_alpha * (s2 / n)**0.5\n",
    "    mu_higher = point_expectation + t_half_alpha * (s2 / n)**0.5\n",
    "    return mu_lower, mu_higher"
   ]
  },
  {
   "cell_type": "markdown",
   "metadata": {},
   "source": [
    "#### А. Доверительные интервалы для гауссовского распределения."
   ]
  },
  {
   "cell_type": "markdown",
   "metadata": {},
   "source": [
    "    1.Оценкка математического ожидания."
   ]
  },
  {
   "cell_type": "code",
   "execution_count": 29,
   "metadata": {},
   "outputs": [
    {
     "name": "stdout",
     "output_type": "stream",
     "text": [
      "MU- : 3.7600464366844792 < MU: 4.1758175839893825 < MU+: 4.591588731294286\n"
     ]
    }
   ],
   "source": [
    "alpha = 0.05\n",
    "gauss_exp = 4\n",
    "gauss_var = 9\n",
    "\n",
    "gauss = stat.norm.rvs(loc=gauss_exp, scale=gauss_var**0.5,size=n)\n",
    "mu_lower, mu_higher = interval_gauss_mu(gauss, alpha, gauss_var)\n",
    "\n",
    "print(f'MU- : {mu_lower} < MU: {np.mean(gauss)} < MU+: {mu_higher}')"
   ]
  },
  {
   "cell_type": "markdown",
   "metadata": {},
   "source": [
    "    2.Оценка дисперсии."
   ]
  },
  {
   "cell_type": "code",
   "execution_count": 30,
   "metadata": {},
   "outputs": [
    {
     "name": "stdout",
     "output_type": "stream",
     "text": [
      "VAR- : 6.381253003909891 < VAR: 7.656217202399581 < VAR+: 9.462272531123068\n"
     ]
    }
   ],
   "source": [
    "sigma2_lower, sigma2_higher = interval_gauss_variance(gauss, n, alpha)\n",
    "\n",
    "print(f'VAR- : {sigma2_lower} < VAR: {np.var(gauss)} < VAR+: {sigma2_higher}')"
   ]
  },
  {
   "cell_type": "markdown",
   "metadata": {},
   "source": [
    "####  Б. Группированные доверительные интервалы гауссовского распределения."
   ]
  },
  {
   "cell_type": "markdown",
   "metadata": {},
   "source": [
    "    1.Оценкка математического ожидания."
   ]
  },
  {
   "cell_type": "code",
   "execution_count": 35,
   "metadata": {},
   "outputs": [
    {
     "name": "stdout",
     "output_type": "stream",
     "text": [
      "MU- : 4.084228852695096 < MU: 4.5 < MU+: 4.915771147304904\n"
     ]
    }
   ],
   "source": [
    "k = 8\n",
    "group_gauss = group_data(gauss, k)\n",
    "\n",
    "mu_lower, mu_higher = interval_gauss_mu(group_gauss, alpha, gauss_var)\n",
    "print(f'MU- : {mu_lower} < MU: {np.mean(group_gauss)} < MU+: {mu_higher}')"
   ]
  },
  {
   "cell_type": "markdown",
   "metadata": {},
   "source": [
    "    2.Оценка дисперсии."
   ]
  },
  {
   "cell_type": "code",
   "execution_count": null,
   "metadata": {},
   "outputs": [],
   "source": [
    "sigma2_lower, sigma2_higher = interval_gauss_variance(group_gauss, n, alpha)\n",
    "print(f'VAR- : {sigma2_lower} < VAR: {np.var(group_gauss)} < VAR+: {sigma2_higher}')"
   ]
  },
  {
   "cell_type": "markdown",
   "metadata": {},
   "source": [
    "####  В. Доверительный интервал математического ожидания через квантили стьюдента."
   ]
  },
  {
   "cell_type": "code",
   "execution_count": 32,
   "metadata": {},
   "outputs": [
    {
     "name": "stdout",
     "output_type": "stream",
     "text": [
      "MU- : 3.9432900620011355 < MU: 4.1758175839893825 < MU+: 4.40834510597763\n"
     ]
    }
   ],
   "source": [
    "mu_lower_student, mu_higher_student = interval_student_mu(gauss, n, alpha)\n",
    "\n",
    "print(f'MU- : {mu_lower_student} < MU: {np.mean(gauss)} < MU+: {mu_higher_student}')"
   ]
  }
 ],
 "metadata": {
  "kernelspec": {
   "display_name": "Python 3",
   "language": "python",
   "name": "python3"
  },
  "language_info": {
   "codemirror_mode": {
    "name": "ipython",
    "version": 3
   },
   "file_extension": ".py",
   "mimetype": "text/x-python",
   "name": "python",
   "nbconvert_exporter": "python",
   "pygments_lexer": "ipython3",
   "version": "3.8.5"
  }
 },
 "nbformat": 4,
 "nbformat_minor": 4
}
