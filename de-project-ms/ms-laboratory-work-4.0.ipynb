{
 "cells": [
  {
   "cell_type": "markdown",
   "metadata": {},
   "source": [
    "## Лабораторная работа 4"
   ]
  },
  {
   "cell_type": "code",
   "execution_count": 1,
   "metadata": {},
   "outputs": [],
   "source": [
    "import scipy.stats as stat\n",
    "import matplotlib.pyplot as plt\n",
    "import numpy as np\n",
    "import math\n",
    "import itertools"
   ]
  },
  {
   "cell_type": "markdown",
   "metadata": {},
   "source": [
    "### I. Проверка статистических гипотез."
   ]
  },
  {
   "cell_type": "code",
   "execution_count": 2,
   "metadata": {},
   "outputs": [],
   "source": [
    "def in_range(x, interval):\n",
    "    \"\"\"\n",
    "    Функция оценивает попадание в диапазон.\n",
    "        \n",
    "    @param:\n",
    "    @return:\n",
    "    \"\"\"\n",
    "    a, b = interval\n",
    "    if a <= x <= b:\n",
    "        return True\n",
    "    return False"
   ]
  },
  {
   "cell_type": "code",
   "execution_count": 3,
   "metadata": {},
   "outputs": [],
   "source": [
    "def group_data(data, k):\n",
    "    \"\"\"\n",
    "    Функция по группированию данных.\n",
    "        \n",
    "    @param:\n",
    "    @return:\n",
    "    \"\"\"\n",
    "    # переведем ряд в вариационный и вычислим начальную и конечную точку\n",
    "    x0 = math.floor(min(data))\n",
    "    xn = math.ceil(max(data))\n",
    "    \n",
    "    # найдем границы отрезков\n",
    "    interval_size = (xn - x0) / k\n",
    "    bounds = [x0 + i * interval_size for i in range(k + 1)]\n",
    "    \n",
    "    # выделим отрезки\n",
    "    a, b = itertools.tee(bounds)\n",
    "    next(b, None)\n",
    "    intervals = list(zip(a, b))\n",
    "    \n",
    "    # найдем серидины интервалов\n",
    "    intervals_mids = [(a + b) / 2 for (a, b) in intervals]\n",
    "    \n",
    "    grouped = np.zeros(np.size(data))\n",
    "    \n",
    "    for i in range(np.size(data)):\n",
    "        # находим индекс интервала в который попадает точка исходной выборки\n",
    "        entry_group = [j for j in range(k) if in_range(data[i], intervals[j])][0]\n",
    "        # группируем, записывая в финальный массив значение серидины интервала в который попала текущая точка\n",
    "        grouped[i] = intervals_mids[entry_group]\n",
    "        \n",
    "    return grouped"
   ]
  },
  {
   "cell_type": "code",
   "execution_count": 4,
   "metadata": {},
   "outputs": [],
   "source": [
    "def empirical_cdf(t,data):\n",
    "    \"\"\"\n",
    "    Кумулятивная функция распределения СВ t, или просто функция распределения t, \n",
    "    это вероятность того, что x примет значение меньшее или равное t\n",
    "    \n",
    "    @param:\n",
    "    @return:\n",
    "    \"\"\"\n",
    "    return sum([1 for x in data if x <= t]) / np.size(data)"
   ]
  },
  {
   "cell_type": "code",
   "execution_count": 5,
   "metadata": {},
   "outputs": [],
   "source": [
    "def print_result(statistic, T1, T2 = None):\n",
    "    \"\"\"\n",
    "    Печать результатов.\n",
    "    \n",
    "    1. В качестве статистики берем t со шляпкой, и далее строим критическую область.\n",
    "    2. Далее смотрим на попадание статистики в критическое множество.\n",
    "    3. Делаем выводы, H0 принимается, или отвергается в пользу H1.\n",
    "    \"\"\"\n",
    "    print(f'статистика:            [{statistic}]')\n",
    "    \n",
    "    if T2 is None:\n",
    "        \n",
    "        print(f'критическое множество: [-{T1}, {T1}]')\n",
    "        if -T1 <= statistic <= T1:\n",
    "            print(f'\\nH0 принимается')\n",
    "        else:\n",
    "            print(f'\\nH0 отвергается в пользу H1')\n",
    "    else:\n",
    "        \n",
    "        print(f'критическое множество: [{T1}, {T2}]')\n",
    "        if T1 <= statistic <= T2:\n",
    "            print(f'\\nH0 принимается')\n",
    "        else:\n",
    "            print(f'\\nH0 отвергается в пользу H1')"
   ]
  },
  {
   "cell_type": "code",
   "execution_count": 6,
   "metadata": {},
   "outputs": [],
   "source": [
    "alpha = 0.05\n",
    "k = 8\n",
    "u_half_alpha = -stat.norm.ppf(alpha / 2)"
   ]
  },
  {
   "cell_type": "markdown",
   "metadata": {},
   "source": [
    "#### Гипотеза №1."
   ]
  },
  {
   "cell_type": "markdown",
   "metadata": {},
   "source": [
    "Проверка гипотезы о равенстве мат. ожиданий для разных выборок гаусса."
   ]
  },
  {
   "cell_type": "markdown",
   "metadata": {},
   "source": [
    "    a.Группированная выборка."
   ]
  },
  {
   "cell_type": "code",
   "execution_count": 7,
   "metadata": {},
   "outputs": [
    {
     "name": "stdout",
     "output_type": "stream",
     "text": [
      "статистика:            [0.26728157187301727]\n",
      "критическое множество: [-1.9647389829672648, 1.9647389829672648]\n",
      "\n",
      "H0 принимается\n"
     ]
    }
   ],
   "source": [
    "n_x_gauss = 200\n",
    "n_y_gauss = 300\n",
    "\n",
    "x_gauss = stat.norm.rvs(loc=5, scale=7**0.5,size=n_x_gauss)\n",
    "y_gauss = stat.norm.rvs(loc=5, scale=9**0.5,size=n_y_gauss)\n",
    "\n",
    "s2 = ((n_x_gauss - 1) * np.var(x_gauss) + (n_y_gauss-2) * np.var(y_gauss)) / (n_x_gauss + n_y_gauss - 2)\n",
    "t = (np.mean(x_gauss) - np.mean(y_gauss)) / (s2**0.5 * (1/n_x_gauss + 1/n_y_gauss)**0.5)\n",
    "t_half_alpha = stat.t.ppf(1-alpha/2, df=n_x_gauss+n_y_gauss-2)\n",
    "\n",
    "print_result(t, t_half_alpha)"
   ]
  },
  {
   "cell_type": "markdown",
   "metadata": {},
   "source": [
    "    a.Негруппированная выборка."
   ]
  },
  {
   "cell_type": "code",
   "execution_count": 8,
   "metadata": {},
   "outputs": [
    {
     "name": "stdout",
     "output_type": "stream",
     "text": [
      "статистика:            [-0.41029328925649816]\n",
      "критическое множество: [-1.9647389829672648, 1.9647389829672648]\n",
      "\n",
      "H0 принимается\n"
     ]
    }
   ],
   "source": [
    "x_group = group_data(y_gauss, k)\n",
    "y_group = group_data(x_gauss, k)\n",
    "\n",
    "s2 = ((n_x_gauss - 1) * np.var(x_group) + (n_y_gauss-2) * np.var(y_group)) / (n_x_gauss + n_y_gauss - 2)\n",
    "t = (np.mean(x_group) - np.mean(y_group)) / (s2**0.5 * (1/n_x_gauss + 1/n_y_gauss)**0.5)\n",
    "t_half_alpha = stat.t.ppf(1-alpha/2, df=n_x_gauss+n_y_gauss-2)\n",
    "\n",
    "print_result(t, t_half_alpha)"
   ]
  },
  {
   "cell_type": "markdown",
   "metadata": {},
   "source": [
    "#### Гипотеза №2."
   ]
  },
  {
   "cell_type": "markdown",
   "metadata": {},
   "source": [
    "Проверка равенства нулю среденего значения tn для выборки с шумом для нормального распределения."
   ]
  },
  {
   "cell_type": "code",
   "execution_count": 9,
   "metadata": {},
   "outputs": [
    {
     "name": "stdout",
     "output_type": "stream",
     "text": [
      "статистика:            [5.513402796938266]\n",
      "критическое множество: [-1.9718962236316089, 1.9718962236316089]\n",
      "\n",
      "H0 отвергается в пользу H1\n"
     ]
    }
   ],
   "source": [
    "n_x_gauss = 200\n",
    "\n",
    "x_gauss = stat.norm.rvs(loc=3, scale=12**0.5,size=n_x_gauss)\n",
    "y = 5 * x_gauss + 10 * np.random.default_rng().uniform(low= -6, high=6, size=n_x_gauss)\n",
    "z = y - x_gauss\n",
    "\n",
    "t = np.mean(z) / (np.std(z) / n_x_gauss**0.5)\n",
    "t_half_alpha = stat.t.ppf(1-alpha/2, df=n_x_gauss)\n",
    "\n",
    "print_result(t, t_half_alpha)"
   ]
  },
  {
   "cell_type": "markdown",
   "metadata": {},
   "source": [
    "#### Гипотеза №3."
   ]
  },
  {
   "cell_type": "markdown",
   "metadata": {},
   "source": [
    "Проверяем гипотезу,что в левой и правой половине одинаковый параметр после деления выборки с распределением пуассона пополам."
   ]
  },
  {
   "cell_type": "code",
   "execution_count": 10,
   "metadata": {},
   "outputs": [
    {
     "name": "stdout",
     "output_type": "stream",
     "text": [
      "статистика:            [0.09379228369755709]\n",
      "критическое множество: [-1.9599639845400545, 1.959963984540054]\n",
      "\n",
      "H0 принимается\n"
     ]
    }
   ],
   "source": [
    "lambda_x = 9\n",
    "n_x_poisson = 200\n",
    "\n",
    "x_poisson = stat.poisson.rvs(lambda_x, size=n_x_poisson)\n",
    "\n",
    "x1_poisson = x_poisson[:n_x_poisson//2]\n",
    "x2_poisson = x_poisson[n_x_poisson//2:]\n",
    "\n",
    "t = (np.mean(x1_poisson) - np.mean(x2_poisson)) / (np.mean(x1_poisson) + np.mean(x2_poisson))**0.5\n",
    "\n",
    "t_left_quant = stat.norm.ppf(alpha/2)\n",
    "t_right_quant = stat.norm.ppf(1 - alpha/2)\n",
    "\n",
    "print_result(t, t_left_quant, t_right_quant)"
   ]
  },
  {
   "cell_type": "markdown",
   "metadata": {},
   "source": [
    "#### Гипотеза №4."
   ]
  },
  {
   "cell_type": "markdown",
   "metadata": {},
   "source": [
    "Проверка гипотезы о равенстве дисперсий по критерию фишера для выборки из гипотезы №1."
   ]
  },
  {
   "cell_type": "code",
   "execution_count": 11,
   "metadata": {},
   "outputs": [
    {
     "name": "stdout",
     "output_type": "stream",
     "text": [
      "статистика:            [0.6727938041944701]\n",
      "критическое множество: [0.7729893672926245, 1.285204934412516]\n",
      "\n",
      "H0 отвергается в пользу H1\n"
     ]
    }
   ],
   "source": [
    "n_x_gauss = 200\n",
    "n_y_gauss = 300\n",
    "\n",
    "x_gauss = stat.norm.rvs(loc=5, scale=7**0.5,size=n_x_gauss)\n",
    "y_gauss = stat.norm.rvs(loc=5, scale=9**0.5,size=n_y_gauss)\n",
    "\n",
    "fisher_left_quan = stat.f.ppf(alpha / 2, dfn = n_x_gauss-1, dfd = n_y_gauss - 1)\n",
    "fisher_right_quan = stat.f.ppf(1 - alpha / 2, dfn = n_x_gauss-1, dfd = n_y_gauss - 1)\n",
    "\n",
    "F = np.var(x_gauss) / np.var(y_gauss)\n",
    "\n",
    "print_result(F, fisher_left_quan, fisher_right_quan)"
   ]
  },
  {
   "cell_type": "markdown",
   "metadata": {},
   "source": [
    "#### Гипотеза №5."
   ]
  },
  {
   "cell_type": "markdown",
   "metadata": {},
   "source": [
    "Проверка гипотезы о равенстве дисперсий в правой и левой части с помощью фишера после разбиения на два части выборки из гипотезы №1. "
   ]
  },
  {
   "cell_type": "code",
   "execution_count": 12,
   "metadata": {},
   "outputs": [
    {
     "name": "stdout",
     "output_type": "stream",
     "text": [
      "статистика:            [0.8234273677840515]\n",
      "критическое множество: [0.7244337450679404, 1.3803884852247126]\n",
      "\n",
      "H0 принимается\n"
     ]
    }
   ],
   "source": [
    "n_y_gauss = 300\n",
    "\n",
    "y_gauss = stat.norm.rvs(loc=5, scale=9**0.5,size=n_y_gauss)\n",
    "\n",
    "y1_gauss = y_gauss[:n_y_gauss // 2]\n",
    "y2_gauss = y_gauss[n_y_gauss // 2:]\n",
    "\n",
    "fisher_left_quan = stat.f.ppf(alpha / 2, dfn = n_y_gauss / 2 - 1, dfd = n_y_gauss / 2 - 1)\n",
    "fisher_right_quan = stat.f.ppf(1 - alpha / 2, dfn = n_y_gauss / 2 - 1, dfd = n_y_gauss / 2 - 1)\n",
    "\n",
    "F = np.var(y1_gauss) / np.var(y2_gauss)\n",
    "\n",
    "print_result(F, fisher_left_quan, fisher_right_quan)"
   ]
  },
  {
   "cell_type": "markdown",
   "metadata": {},
   "source": [
    "#### Гипотеза №6."
   ]
  },
  {
   "cell_type": "markdown",
   "metadata": {},
   "source": [
    "Проверка гипотезы о коррелированности двух выборок гаусса для данных из гипотезы №2 через коэффициент пирсона."
   ]
  },
  {
   "cell_type": "code",
   "execution_count": 13,
   "metadata": {},
   "outputs": [
    {
     "name": "stdout",
     "output_type": "stream",
     "text": [
      "статистика:            [71.4086277813903]\n",
      "критическое множество: [-1.9718962236316093, 1.9718962236316089]\n",
      "\n",
      "H0 отвергается в пользу H1\n"
     ]
    }
   ],
   "source": [
    "n_x_gauss = 200\n",
    "\n",
    "x_gauss = stat.norm.rvs(loc=3, scale=12**0.5,size=n_x_gauss)\n",
    "y = 5 * x_gauss + np.random.default_rng().uniform(low= -6, high=6, size=n_x_gauss)\n",
    "ro, _ = stat.pearsonr(x_gauss, y)\n",
    "\n",
    "t = ro / (1 - ro**2)**0.5 * (n_x_gauss - 2)**0.5\n",
    "t_right_quant = stat.t.ppf(1-alpha/2, df=n_x_gauss)\n",
    "t_left_quant = stat.t.ppf(alpha/2, df=n_x_gauss)\n",
    "\n",
    "print_result(t, t_left_quant, t_right_quant)"
   ]
  },
  {
   "cell_type": "markdown",
   "metadata": {},
   "source": [
    "#### Гипотеза №7."
   ]
  },
  {
   "cell_type": "markdown",
   "metadata": {},
   "source": [
    "Проверка гипотезы о некоррелированности двух частей выборки из гипотезы №6 при делении ее пополам через коэффициент пиросона."
   ]
  },
  {
   "cell_type": "code",
   "execution_count": 14,
   "metadata": {},
   "outputs": [
    {
     "name": "stdout",
     "output_type": "stream",
     "text": [
      "статистика:            [1.3165825299616025]\n",
      "критическое множество: [-1.983971518449634, 1.9839715184496334]\n",
      "\n",
      "H0 принимается\n"
     ]
    }
   ],
   "source": [
    "n_x_gauss = 200\n",
    "\n",
    "x_gauss = stat.norm.rvs(loc=3, scale=12**0.5,size=n_x_gauss)\n",
    "x1_gauss = x_gauss[:n_x_gauss//2]\n",
    "x2_gauss = x_gauss[n_x_gauss//2:]\n",
    "\n",
    "ro, pp = stat.pearsonr(x1_gauss, x2_gauss)\n",
    "\n",
    "t = ro / (1 - ro**2)**0.5 * (n_x_gauss//2 - 2)**0.5\n",
    "t_right_quant = stat.t.ppf(1-alpha/2, df=n_x_gauss//2)\n",
    "t_left_quant = stat.t.ppf(alpha/2, df=n_x_gauss//2)\n",
    "\n",
    "print_result(t, t_left_quant, t_right_quant)"
   ]
  },
  {
   "cell_type": "markdown",
   "metadata": {},
   "source": [
    "### II. Проверка критериев согласия."
   ]
  },
  {
   "cell_type": "code",
   "execution_count": 15,
   "metadata": {},
   "outputs": [],
   "source": [
    "def group_data(data, k):\n",
    "    \n",
    "    x0 = math.floor(min(data))\n",
    "    xn = math.ceil(max(data))\n",
    "    \n",
    "    bounds = [x0 + i * (xn - x0) / k for i in range(k + 1)]\n",
    "    \n",
    "    # выделим отрезки\n",
    "    a, b = itertools.tee(bounds)\n",
    "    next(b, None)\n",
    "    intervals = list(zip(a, b))\n",
    "    \n",
    "    invervals_mids = [(a + b) / 2 for (a, b) in intervals]\n",
    "    grouped = np.zeros(np.size(invervals_mids))\n",
    "    \n",
    "    for i in range(np.size(data)):\n",
    "        entry_group = [j for j in range(k) if in_range(data[i], intervals[j])][0]\n",
    "        grouped[entry_group] += 1\n",
    "        \n",
    "    return intervals, grouped"
   ]
  },
  {
   "cell_type": "code",
   "execution_count": 25,
   "metadata": {},
   "outputs": [],
   "source": [
    "def chi2_normality_test(data):\n",
    "    mean = np.mean(data)\n",
    "    std = np.std(data)\n",
    "    \n",
    "    intervals, freq = group_data(data, k=10)\n",
    "    exp = [np.size(data)*(stat.norm.cdf(b, \n",
    "                                        loc=mean, \n",
    "                                        scale=std)-stat.norm.cdf(a, loc=mean, scale=std)) for (a,b) in intervals]\n",
    "    \n",
    "    chi2 = np.sum((freq - exp)**2 / exp)\n",
    "    chi2_quant = stat.chi2.ppf(1 - alpha, df=k-2) # -2 for 2 estimated parameters (location and scale)\n",
    "\n",
    "    print(f'статистика:            [{chi2}]')\n",
    "    print(f'критическое значение:  [{chi2_quant}]')\n",
    "    \n",
    "    if chi2 < chi2_quant:\n",
    "        print(f'\\nH0 принимается')\n",
    "    else:\n",
    "        print(f'\\nH0 отвергается в пользу H1')"
   ]
  },
  {
   "cell_type": "code",
   "execution_count": 26,
   "metadata": {},
   "outputs": [],
   "source": [
    "def kolmogorov_normality_test(data):\n",
    "    mean = np.mean(data)\n",
    "    std = np.std(data)\n",
    "    \n",
    "    dif = [np.abs(empirical_cdf(t,data) - stat.norm.cdf(t,loc=mean,scale=std)) for t in data]\n",
    "    \n",
    "    k_statistic = np.size(data)**0.5 * np.max(dif)\n",
    "    kolmogorov_quant = stat.kstwobign.ppf(1-alpha)\n",
    "    \n",
    "    print(f'статистика:            [{k_statistic}]')\n",
    "    print(f'критическое значение:  [{kolmogorov_quant}]')\n",
    "    \n",
    "    if k_statistic < kolmogorov_quant:\n",
    "        print(f'\\nH0 принимается')\n",
    "    else:\n",
    "        print(f'\\nH0 отвергается в пользу H1')"
   ]
  },
  {
   "cell_type": "code",
   "execution_count": 39,
   "metadata": {},
   "outputs": [],
   "source": [
    "def KS_test(x, y):\n",
    "    n1 = np.size(x)\n",
    "    n2 = np.size(y)\n",
    "    \n",
    "    cumulated = np.append(x,y)\n",
    "    dif = [np.abs(empirical_cdf(t,x) - empirical_cdf(t,y)) for t in cumulated]\n",
    "    \n",
    "    k_statistic = np.max(dif)\n",
    "    crit_value = ((n1 + n2) / (n1 * n2))**0.5 * (-np.log(alpha/2) * 0.5)**0.5\n",
    "    \n",
    "    print(f'статистика:            [{k_statistic}]')\n",
    "    print(f'критическое значение:  [{crit_value}]')\n",
    "    \n",
    "    if crit_value > k_statistic:\n",
    "        print(f'\\nH0 принимается')\n",
    "    else:\n",
    "        print(f'\\nH0 отвергается в пользу H1')"
   ]
  },
  {
   "cell_type": "code",
   "execution_count": 40,
   "metadata": {},
   "outputs": [],
   "source": [
    "n_x_gauss = 400"
   ]
  },
  {
   "cell_type": "markdown",
   "metadata": {},
   "source": [
    "#### 1.Критерий Хи-квадрат."
   ]
  },
  {
   "cell_type": "markdown",
   "metadata": {},
   "source": [
    "Проверка гипотезы нормальности для всей выборки."
   ]
  },
  {
   "cell_type": "markdown",
   "metadata": {},
   "source": [
    "    a.Нормальное распределение"
   ]
  },
  {
   "cell_type": "code",
   "execution_count": 41,
   "metadata": {},
   "outputs": [
    {
     "name": "stdout",
     "output_type": "stream",
     "text": [
      "статистика:            [4.337680980340313]\n",
      "критическое значение:  [12.591587243743977]\n",
      "\n",
      "H0 принимается\n"
     ]
    }
   ],
   "source": [
    "x_gauss = stat.norm.rvs(loc=5, scale=7**0.5,size=n_x_gauss)\n",
    "chi2_normality_test(x_gauss)"
   ]
  },
  {
   "cell_type": "markdown",
   "metadata": {},
   "source": [
    "    b.Нормальное распределение + noise 1"
   ]
  },
  {
   "cell_type": "code",
   "execution_count": 42,
   "metadata": {},
   "outputs": [
    {
     "name": "stdout",
     "output_type": "stream",
     "text": [
      "статистика:            [11.298706236772823]\n",
      "критическое значение:  [12.591587243743977]\n",
      "\n",
      "H0 принимается\n"
     ]
    }
   ],
   "source": [
    "x_gauss_uni_noise = x_gauss + np.random.default_rng().uniform(low= -6, high=6, size=n_x_gauss)\n",
    "chi2_normality_test(x_gauss_uni_noise)"
   ]
  },
  {
   "cell_type": "markdown",
   "metadata": {},
   "source": [
    "    c.Нормальное распределение + noise 2"
   ]
  },
  {
   "cell_type": "code",
   "execution_count": 43,
   "metadata": {},
   "outputs": [
    {
     "name": "stdout",
     "output_type": "stream",
     "text": [
      "статистика:            [8.085152558468067]\n",
      "критическое значение:  [12.591587243743977]\n",
      "\n",
      "H0 принимается\n"
     ]
    }
   ],
   "source": [
    "x_gauss_cauchy_noise = x_gauss + 0.01 * stat.cauchy.rvs(loc=0, scale=1, size=n_x_gauss)\n",
    "chi2_normality_test(x_gauss_cauchy_noise)"
   ]
  },
  {
   "cell_type": "markdown",
   "metadata": {},
   "source": [
    "#### 2. Критерий Колмогорова."
   ]
  },
  {
   "cell_type": "markdown",
   "metadata": {},
   "source": [
    "Проверка гипотезы нормальности для всей выборки."
   ]
  },
  {
   "cell_type": "markdown",
   "metadata": {},
   "source": [
    "    a.Нормальное распределение"
   ]
  },
  {
   "cell_type": "code",
   "execution_count": 44,
   "metadata": {},
   "outputs": [
    {
     "name": "stdout",
     "output_type": "stream",
     "text": [
      "статистика:            [0.4789132112237371]\n",
      "критическое значение:  [1.3580986393225505]\n",
      "\n",
      "H0 принимается\n"
     ]
    }
   ],
   "source": [
    "kolmogorov_normality_test(x_gauss)"
   ]
  },
  {
   "cell_type": "markdown",
   "metadata": {},
   "source": [
    "    b.Нормальное распределение + noise 1"
   ]
  },
  {
   "cell_type": "code",
   "execution_count": 45,
   "metadata": {},
   "outputs": [
    {
     "name": "stdout",
     "output_type": "stream",
     "text": [
      "статистика:            [0.9051556561893259]\n",
      "критическое значение:  [1.3580986393225505]\n",
      "\n",
      "H0 принимается\n"
     ]
    }
   ],
   "source": [
    "kolmogorov_normality_test(x_gauss_uni_noise)"
   ]
  },
  {
   "cell_type": "markdown",
   "metadata": {},
   "source": [
    "    c.Нормальное распределение + noise 2"
   ]
  },
  {
   "cell_type": "code",
   "execution_count": 46,
   "metadata": {},
   "outputs": [
    {
     "name": "stdout",
     "output_type": "stream",
     "text": [
      "статистика:            [0.46742642677427115]\n",
      "критическое значение:  [1.3580986393225505]\n",
      "\n",
      "H0 принимается\n"
     ]
    }
   ],
   "source": [
    "kolmogorov_normality_test(x_gauss_cauchy_noise)"
   ]
  },
  {
   "cell_type": "markdown",
   "metadata": {},
   "source": [
    "#### 3. Критерий Колмогорова-Смирнова."
   ]
  },
  {
   "cell_type": "markdown",
   "metadata": {},
   "source": [
    "    a.Нормальное распределение"
   ]
  },
  {
   "cell_type": "code",
   "execution_count": 47,
   "metadata": {},
   "outputs": [
    {
     "name": "stdout",
     "output_type": "stream",
     "text": [
      "статистика:            [0.08999999999999997]\n",
      "критическое значение:  [0.13581015157406195]\n",
      "\n",
      "H0 принимается\n"
     ]
    }
   ],
   "source": [
    "x1_gauss = x_gauss[:n_x_gauss // 2]\n",
    "x2_gauss = x_gauss[n_x_gauss // 2:]\n",
    "KS_test(x1_gauss, x2_gauss)"
   ]
  },
  {
   "cell_type": "markdown",
   "metadata": {},
   "source": [
    "    b.Нормальное распределение + noise 1"
   ]
  },
  {
   "cell_type": "code",
   "execution_count": 48,
   "metadata": {},
   "outputs": [
    {
     "name": "stdout",
     "output_type": "stream",
     "text": [
      "статистика:            [0.08999999999999997]\n",
      "критическое значение:  [0.13581015157406195]\n",
      "\n",
      "H0 принимается\n"
     ]
    }
   ],
   "source": [
    "x1_uni_noise = x_gauss_uni_noise[:n_x_gauss // 2]\n",
    "x2_uni_noise = x_gauss_uni_noise[n_x_gauss // 2:]\n",
    "KS_test(x1_uni_noise, x2_uni_noise)"
   ]
  },
  {
   "cell_type": "markdown",
   "metadata": {},
   "source": [
    "    c.Нормальное распределение + noise 2"
   ]
  },
  {
   "cell_type": "code",
   "execution_count": 49,
   "metadata": {},
   "outputs": [
    {
     "name": "stdout",
     "output_type": "stream",
     "text": [
      "статистика:            [0.08499999999999996]\n",
      "критическое значение:  [0.13581015157406195]\n",
      "\n",
      "H0 принимается\n"
     ]
    }
   ],
   "source": [
    "x1_cauchy_noise = x_gauss_cauchy_noise[:n_x_gauss // 2]\n",
    "x2_cauchy_noise = x_gauss_cauchy_noise[n_x_gauss // 2:]\n",
    "KS_test(x1_cauchy_noise, x2_cauchy_noise)"
   ]
  }
 ],
 "metadata": {
  "kernelspec": {
   "display_name": "Python 3",
   "language": "python",
   "name": "python3"
  },
  "language_info": {
   "codemirror_mode": {
    "name": "ipython",
    "version": 3
   },
   "file_extension": ".py",
   "mimetype": "text/x-python",
   "name": "python",
   "nbconvert_exporter": "python",
   "pygments_lexer": "ipython3",
   "version": "3.8.5"
  }
 },
 "nbformat": 4,
 "nbformat_minor": 4
}
